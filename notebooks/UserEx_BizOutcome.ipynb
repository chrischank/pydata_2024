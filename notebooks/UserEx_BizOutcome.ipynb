{
 "cells": [
  {
   "cell_type": "markdown",
   "metadata": {},
   "source": [
    "# Measuring the User Experience and the IMpact of Effort on Business Outcomes\n",
    "\n",
    "User expect a seamless experience\\\n",
    "- Is it easy, intuitive, a smooth experience end-to-end?\n",
    "- Or is it confusing, buggy, more frustrating than it's worth?\n",
    "\n",
    "## Measuring the user experience User Funnel (AARRR)\n",
    "- Acquisition: Are new users coming to your product?\n",
    "- Activation: Are new users converting?\n",
    "- Retention: Are users coming back?\n",
    "- Referral: Are users helping to attract more users?\n",
    "- Revenue: Are users upgrading and spending more money?\n",
    "\n",
    "## Why measure efforts\n",
    "For tech companies, the user ex on your product can make or break your business\n",
    "- Lost revenue:\n",
    "- Friction can drive customers to your competition or other options.\n",
    "\n",
    "- Higher costs:\n",
    "- A bad online experience can result in more calls or contact.\n",
    "\n",
    "Efforts can also be a leading indicator of:\n",
    "- Abandonment\n",
    "- Contact\n",
    "- Low feedback\n",
    "- Lower return rate\n",
    "- Fewer new users\n",
    "- Client or customer churn\n",
    "\n",
    "### Not all friction feels the same\n",
    "Use correlations or predictive models to understand the relationship between friction and user behaviour that impacts your bottom line:\n",
    "- Abandonment\n",
    "- Low/negative feedback\n",
    "- Contact\n",
    "- Return rate\n",
    "- Referral rate\n",
    "\n",
    "## Human Learning + Machine Learning\n",
    "Use the results of correlations and predictive models (feature importance) to measure the relationship between friction and business outcomes.\\\n",
    "\n",
    "Apply your business or product knowledge as an extra layer of learning.\\\n",
    "\n",
    "### Can you improven the User Experience?\n",
    "Gaps in data collection\\\n",
    "- Can we fix our blind spots?\n",
    "Compare A/B test experience\\\n",
    "- Which experiences have less effort\n",
    "Identify pain points\\\n",
    "- High friction spots\n",
    "- Products or journeys that have more effort\n",
    "Understand user types\\\n",
    "- Who struggles more often\n",
    "\n",
    "## Can you avoid efforts?\n",
    "Identify Pain Points -> Add messages or prompts\\\n",
    "Identify Users who struggle more -> Create a personalised journey\\\n",
    "Identify journey with high effort -> Simplify the journey, maybe using AI\\\n",
    "\n",
    "## Why you should care about User Ex\n",
    "\n"
   ]
  },
  {
   "cell_type": "markdown",
   "metadata": {},
   "source": []
  }
 ],
 "metadata": {
  "kernelspec": {
   "display_name": "ds_pydata",
   "language": "python",
   "name": "python3"
  },
  "language_info": {
   "name": "python",
   "version": "3.10.13"
  }
 },
 "nbformat": 4,
 "nbformat_minor": 2
}
