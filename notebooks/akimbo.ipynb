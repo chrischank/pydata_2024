{
 "cells": [
  {
   "cell_type": "markdown",
   "metadata": {},
   "source": [
    "# Akimbo: Vectorised processing of nested/ragged dataframe columns\n",
    "\n",
    "Arrow is a datamode, python object iteration (e.g. JSON) is slow and memory-heavy\\\n",
    "Parquet data model is more general\\\n",
    "- Missing data (OPTIONAL)\n",
    "- Variable-length types (LIST)\n",
    "- Nested records (STRUCT)\n",
    "- Call this JSON like data\n",
    "\n",
    "The arrow data model fully implements JSON-like data\\\n",
    "More recent binary data formats target arrow\\\n",
    "\n",
    "## Motivation: akimbo\n",
    "- Awkwawrd-array is a numpy like API over JSON like data, built for physics\n",
    "- Implements vectorised kernels\n",
    "- Works on CPU and GPU\n",
    "- Integrates with Numba\n",
    "\n",
    "Akimbo integrates with Pandas, Polars, dask-dataframe, and cuDF, through an .ak accessor."
   ]
  },
  {
   "cell_type": "code",
   "execution_count": 2,
   "metadata": {},
   "outputs": [],
   "source": [
    "import pandas as pd\n",
    "import akimbo.pandas\n",
    "import numba"
   ]
  },
  {
   "cell_type": "code",
   "execution_count": null,
   "metadata": {},
   "outputs": [],
   "source": []
  }
 ],
 "metadata": {
  "kernelspec": {
   "display_name": "ds_pydata",
   "language": "python",
   "name": "python3"
  },
  "language_info": {
   "codemirror_mode": {
    "name": "ipython",
    "version": 3
   },
   "file_extension": ".py",
   "mimetype": "text/x-python",
   "name": "python",
   "nbconvert_exporter": "python",
   "pygments_lexer": "ipython3",
   "version": "3.10.13"
  }
 },
 "nbformat": 4,
 "nbformat_minor": 2
}
