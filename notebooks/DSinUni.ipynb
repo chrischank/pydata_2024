{
 "cells": [
  {
   "cell_type": "markdown",
   "metadata": {},
   "source": [
    "# PyData Bllom Framework: A multidisciplinary approach to Data Science in university education\n",
    "\n",
    "## Blooms Taxonomy\n",
    "A hhierarchical framework to classify learning objectives into cognitive domains:\\\n",
    "Understand, Apply, Analyse, Evaluate, Create.\n",
    "\n",
    "## KDD Knowledge Discovery in Databases Process"
   ]
  }
 ],
 "metadata": {
  "kernelspec": {
   "display_name": "ds_pydata",
   "language": "python",
   "name": "python3"
  },
  "language_info": {
   "name": "python",
   "version": "3.10.13"
  }
 },
 "nbformat": 4,
 "nbformat_minor": 2
}
