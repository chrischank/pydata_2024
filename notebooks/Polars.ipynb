{
 "cells": [
  {
   "cell_type": "markdown",
   "metadata": {},
   "source": [
    "# Data types in polars\n",
    "1. String\n",
    "2. Datetime\n",
    "3. Strings -> Temporal dtypes\n",
    "4. Duration, kinda timedelta\n",
    "5. Binary\n",
    "6. Decimal\n",
    "7. Enum, for categorical valuable enum.StrEnum\n",
    "\n",
    "## Build ML pipeline for electricity price prediction\n",
    "\n",
    "As we build up csv, it gets messy, overriding file mean we loose ability to rebuild earlier version of the dataset\\\n",
    "\n",
    "## Wish list\n",
    "- East data appends/overwrites\n",
    "- Dataset versioning\n",
    "- Auto file compaction\n",
    "- File-skipping\n",
    "ACID transactions\n",
    "- Local/cloud compatibility\n",
    "\n",
    "## Solutions\n"
   ]
  }
 ],
 "metadata": {
  "kernelspec": {
   "display_name": "ds_pydata",
   "language": "python",
   "name": "python3"
  },
  "language_info": {
   "name": "python",
   "version": "3.10.13"
  }
 },
 "nbformat": 4,
 "nbformat_minor": 2
}
