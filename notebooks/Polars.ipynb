{
 "cells": [
  {
   "cell_type": "markdown",
   "metadata": {},
   "source": [
    "# Data types in polars\n",
    "1. String\n",
    "2. Datetime\n",
    "3. Strings -> Temporal dtypes\n",
    "4. Duration, kinda timedelta\n",
    "5. Binary\n",
    "6. Decimal\n",
    "7. Enum, for categorical valuable enum.StrEnum\n",
    "\n",
    "## Build ML pipeline for electricity price prediction\n",
    "\n",
    "As we build up csv, it gets messy, overriding file mean we loose ability to rebuild earlier version of the dataset\\\n",
    "\n",
    "## Wish list\n",
    "- East data appends/overwrites\n",
    "- Dataset versioning\n",
    "- Auto file compaction\n",
    "- File-skipping\n",
    "ACID transactions\n",
    "- Local/cloud compatibility\n",
    "\n",
    "## Solutions\n",
    "### Parquet\n",
    "- has a metadata for each column, parquet have a smart dataframe\n",
    "\n",
    "### Lakehouse\n",
    "- System for data storage\n",
    "- Datasets managed via tables\n",
    "- e.g. Apache hudi, Delta Lake, IceBerg\n",
    "\n",
    "### Polars\n"
   ]
  }
 ],
 "metadata": {
  "kernelspec": {
   "display_name": "ds_pydata",
   "language": "python",
   "name": "python3"
  },
  "language_info": {
   "codemirror_mode": {
    "name": "ipython",
    "version": 3
   },
   "file_extension": ".py",
   "mimetype": "text/x-python",
   "name": "python",
   "nbconvert_exporter": "python",
   "pygments_lexer": "ipython3",
   "version": "3.10.13"
  }
 },
 "nbformat": 4,
 "nbformat_minor": 2
}
