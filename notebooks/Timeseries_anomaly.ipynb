{
 "cells": [
  {
   "cell_type": "markdown",
   "metadata": {},
   "source": [
    "# Realtime Time Series Anomaly Detection in Production\n",
    "\n",
    "- Anomaly is when something is different that the expected or the usual\n",
    "- Start simple with threshold based altering\n",
    "- If your time series is more complicated\n",
    "    - Assume your future data will behave somewhat similar to past\n",
    "    - Forecast to get the expected value\n",
    "    - Alert if the incoming data is different enough from the forecast\n",
    "    - Need 2 core pieces\n",
    "\n",
    "## NeuralProphet: A Time Series Modelling framework\n",
    "- Neural Prophet is a scalable framework that uses a NN to model autoregression\n",
    "\n",
    "Where do you calculate the mean and the std from?\\\n",
    "Lookback period, period which you \"look back upon\" to find how the non-anomalous distribution should look like\\\n",
    "Calculate stats like averages and spread of distribution\\\n",
    "\n",
    "- STart simple using basic z-scores and lookback period on the time series data\n",
    "- If your time series is more complicated, then use forecasts to find teh expected value\n",
    "- Instead of modelling the time series data, model residuals\n",
    "- And do all the statistical experimentation with residuals\n",
    "\n",
    "## Building a realtime pipeline\n",
    "- Real time data is continuously populating your system\n",
    "1. Save your data from anomalies\n",
    "- Anomalous data will creep in, hence use robust metrics\n",
    "- Label and filter out anomalous period from the data to retrain ASAP\n",
    "- Or remove confidently predicted anomalies\n",
    "\n"
   ]
  }
 ],
 "metadata": {
  "kernelspec": {
   "display_name": "ds_pydata",
   "language": "python",
   "name": "python3"
  },
  "language_info": {
   "name": "python",
   "version": "3.10.13"
  }
 },
 "nbformat": 4,
 "nbformat_minor": 2
}
