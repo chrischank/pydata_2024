{
 "cells": [
  {
   "cell_type": "markdown",
   "metadata": {},
   "source": [
    "# skchange & sktime - time series anomaly detection, changepoint detection, segmentation\n",
    "\n",
    "Most widely used package for ML timeseries.\\"
   ]
  },
  {
   "cell_type": "code",
   "execution_count": 31,
   "metadata": {},
   "outputs": [
    {
     "ename": "ImportError",
     "evalue": "cannot import name 'plot_multivariate_time_series' from 'utils' (/opt/homebrew/Caskroom/miniforge/base/envs/ds_pydata/lib/python3.10/site-packages/utils/__init__.py)",
     "output_type": "error",
     "traceback": [
      "\u001b[0;31m---------------------------------------------------------------------------\u001b[0m",
      "\u001b[0;31mImportError\u001b[0m                               Traceback (most recent call last)",
      "Cell \u001b[0;32mIn[31], line 4\u001b[0m\n\u001b[1;32m      2\u001b[0m \u001b[38;5;28;01mfrom\u001b[39;00m \u001b[38;5;21;01msktime\u001b[39;00m \u001b[38;5;28;01mimport\u001b[39;00m utils\n\u001b[1;32m      3\u001b[0m \u001b[38;5;28;01mfrom\u001b[39;00m \u001b[38;5;21;01mskchange\u001b[39;00m\u001b[38;5;21;01m.\u001b[39;00m\u001b[38;5;21;01mdatasets\u001b[39;00m\u001b[38;5;21;01m.\u001b[39;00m\u001b[38;5;21;01mgenerate\u001b[39;00m \u001b[38;5;28;01mimport\u001b[39;00m generate_alternating_data\n\u001b[0;32m----> 4\u001b[0m \u001b[38;5;28;01mfrom\u001b[39;00m \u001b[38;5;21;01mutils\u001b[39;00m \u001b[38;5;28;01mimport\u001b[39;00m plot_multivariate_time_series, add_changepoint_vlines\n\u001b[1;32m      6\u001b[0m \u001b[38;5;28;01mfrom\u001b[39;00m \u001b[38;5;21;01mskchange\u001b[39;00m\u001b[38;5;21;01m.\u001b[39;00m\u001b[38;5;21;01mchange_detectors\u001b[39;00m\u001b[38;5;21;01m.\u001b[39;00m\u001b[38;5;21;01mmoving_window\u001b[39;00m \u001b[38;5;28;01mimport\u001b[39;00m moving_window\n\u001b[1;32m      8\u001b[0m df \u001b[38;5;241m=\u001b[39m generate_alternating_data(n_segments\u001b[38;5;241m=\u001b[39m\u001b[38;5;241m10\u001b[39m, segment_length\u001b[38;5;241m=\u001b[39m\u001b[38;5;241m50\u001b[39m, mean\u001b[38;5;241m=\u001b[39m\u001b[38;5;241m5\u001b[39m, random_state\u001b[38;5;241m=\u001b[39m\u001b[38;5;241m42\u001b[39m)\n",
      "\u001b[0;31mImportError\u001b[0m: cannot import name 'plot_multivariate_time_series' from 'utils' (/opt/homebrew/Caskroom/miniforge/base/envs/ds_pydata/lib/python3.10/site-packages/utils/__init__.py)"
     ]
    }
   ],
   "source": [
    "import sktime\n",
    "from sktime import utils\n",
    "from skchange.datasets.generate import generate_alternating_data\n",
    "from utils import plot_multivariate_time_series, add_changepoint_vlines\n",
    "\n",
    "from skchange.change_detectors.moving_window import moving_window\n",
    "\n",
    "df = generate_alternating_data(n_segments=10, segment_length=50, mean=5, random_state=42)\n",
    "\n",
    "detector = MovingWindow(bandwidth=10)\n",
    "cpts = detector.fit_predict(df)\n",
    "\n",
    "cpt_fig = plot_multivariate_time_series(df)\n",
    "cpt_fig = add_changepoint_vlines(cpt_fig, cpts)\n",
    "cpt_fig.update_layout(\n",
    "    showlegend=False, xaxis_title=None\n",
    ")\n",
    "cpt_fig.show()"
   ]
  }
 ],
 "metadata": {
  "kernelspec": {
   "display_name": "ds_pydata",
   "language": "python",
   "name": "python3"
  },
  "language_info": {
   "codemirror_mode": {
    "name": "ipython",
    "version": 3
   },
   "file_extension": ".py",
   "mimetype": "text/x-python",
   "name": "python",
   "nbconvert_exporter": "python",
   "pygments_lexer": "ipython3",
   "version": "3.10.13"
  }
 },
 "nbformat": 4,
 "nbformat_minor": 2
}
