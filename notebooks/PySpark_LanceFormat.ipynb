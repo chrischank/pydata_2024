{
 "cells": [
  {
   "cell_type": "markdown",
   "metadata": {},
   "source": [
    "# Bridging Big Data & AI: Empowering PySpark with Lance Format for Multi-Modal AI Data Pipelines\n",
    "\n",
    "## AI breeds new need for Data Lakes\n",
    "- CIFAR\n",
    "- ImageNet\n",
    "- LLM\n",
    "- Image/Video model\n",
    "- Largest Lance dataset is massive\n",
    "\n",
    "## The new CAP Theorem for AI Data Lake\n",
    "3 major needs:\\\n",
    "1. Filter - Fast scans\n",
    "2. Shuffle - Random access\n",
    "3. Stream - Large blobs\n",
    "\n",
    "Shared vision to bridge big data and AI to create AI data lake:\n",
    "- pandas co-author\n",
    "- RayTune\n",
    "\n",
    "## Lance format\n",
    "Columnar format for AI\\\n",
    "- Multimodal AI\n",
    "- Version manifest\n",
    "- Indices\n",
    "- Leverage cloud storage scalability\n",
    "- Support million tables\n",
    "- Trillions of rows per table\n",
    "\n",
    "Data Access\\\n",
    "- Fast random access\n",
    "- Comparability to parquet\n",
    "- SQL search\n",
    "\n",
    "## Vector database\n",
    "- Portable indices that live with the data\n",
    "- Vector Index\n",
    "- Scalar filter for index pushdown\n",
    "- Make sense when you support random access\n",
    "\n"
   ]
  }
 ],
 "metadata": {
  "language_info": {
   "name": "python"
  }
 },
 "nbformat": 4,
 "nbformat_minor": 2
}
