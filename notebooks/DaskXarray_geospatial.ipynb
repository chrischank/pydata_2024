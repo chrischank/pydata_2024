{
 "cells": [
  {
   "cell_type": "markdown",
   "metadata": {},
   "source": [
    "# Dask Xarray: geoscience at massive scale\n",
    "\n",
    "## Dask: General parallelism for Python\n",
    "- Parallel for-loopy code\n",
    "- Dataframe and ETL\n",
    "- Array computing\n",
    "- Dynamic and complex systems / ML\n",
    "\n",
    "## Improvement\n",
    "### Rechunking\n",
    "Fully space-chunked to fully time-chunked\\\n",
    "P2P rechunking algo is a lot more efficient\\\n",
    "- Reducing number of task from \n",
    "\n",
    "### Geospatial benchmarking\n",
    "A good benchmark...\n",
    "- covers end-to-end workload\n",
    "- operate at large scale\n",
    "- is representative of real work\n",
    "\n"
   ]
  }
 ],
 "metadata": {
  "kernelspec": {
   "display_name": "ds_pydata",
   "language": "python",
   "name": "python3"
  },
  "language_info": {
   "name": "python",
   "version": "3.10.13"
  }
 },
 "nbformat": 4,
 "nbformat_minor": 2
}
