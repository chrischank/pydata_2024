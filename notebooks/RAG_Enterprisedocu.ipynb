{
 "cells": [
  {
   "cell_type": "markdown",
   "metadata": {},
   "source": [
    "# Breaking free from extraction pipelines: ColPali's Vision-Powered RAG for Enterprise Documents\n",
    "\n",
    "If you have a lot of complicated PDFs, a lot of the useful information live inside complicated PDF and .doc structure\\\n",
    "It is not obvious to how to feed them into LLM.\\\n",
    "Currently people are building bounding boxes, but only applicable to one type of documents but not others.\\\n",
    "\n",
    "## Standard RAG approach\n",
    "Corpus -> Embedding Model -> Vector Database -> LLM -> Response\\\n",
    "\n",
    "### Tangent: Embedding models convert data into vectors\n",
    "Similar data vectors are located together\\\n",
    "OCR -> Layout detection\\\n",
    "\n",
    "ColPali approach is to cut up pdf into regions, treat each piece as an image\\\n",
    "Generate a vector for each image.\\\n",
    "\n",
    "ColQwen2 is an upgrade to ColPali\\"
   ]
  }
 ],
 "metadata": {
  "language_info": {
   "name": "python"
  }
 },
 "nbformat": 4,
 "nbformat_minor": 2
}
