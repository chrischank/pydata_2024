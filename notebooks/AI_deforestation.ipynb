{
 "cells": [
  {
   "cell_type": "markdown",
   "metadata": {},
   "source": [
    "# Using AI to spot Deforestation-related cows\n",
    "\n",
    "## Cattle ranching in Brasilian Amazon\n",
    "- Pasture expansion into forest continuously goes up\n",
    "- Stocking rate (animals/hectare) historically low\n",
    "\n",
    "## Computer Vision challenges\n",
    "- Cattle appear in congested scenes and individual cows are small and clustered\n",
    "- Density-based CNN\n",
    "- Dilation: learns overall context of the scene\n",
    "\n"
   ]
  }
 ],
 "metadata": {
  "kernelspec": {
   "display_name": "ds_pydata",
   "language": "python",
   "name": "python3"
  },
  "language_info": {
   "name": "python",
   "version": "3.10.13"
  }
 },
 "nbformat": 4,
 "nbformat_minor": 2
}
