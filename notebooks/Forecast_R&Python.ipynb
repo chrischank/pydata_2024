{
 "cells": [
  {
   "cell_type": "markdown",
   "metadata": {},
   "source": [
    "# Solving forecasting problems in R and Python\n",
    "\n",
    "## Timeseries Forecasting\n",
    "- Produce an estimate of future using trends and relations observed in the past.\n",
    "\n",
    "## How to evaluate forecast\n",
    "- Hold out future, and compare prediction to eventual outcomes\n",
    "\n",
    "## Business application\n",
    "- Prediction future demand\n",
    "- Predicting future price\n",
    "- Predicting future revenue\n",
    "- Physical systems affecting business\n",
    "\n",
    "## External regressors\n",
    "For many business app we need to model future values as a function of past values and additional facts about the future called \"external regressors.\"\\\n",
    "\n",
    "this is where it all goes wrong\\\n",
    "\n",
    "- ARIMAX, ARMAX, SARIMAX, transfer functions, regression with ARIMA residuals all claim to solve this.\n",
    "- No 2 of them seem to bhe solving teh same problem\n",
    "- To the extent time series modelling is magic, it obscures out the effects of external regressors.\n",
    "\n",
    "## Families of methodologies\n",
    "- ARIMA derived\n",
    "- Brute force\n",
    "- Decomposition or attribution methods\n",
    "- Hidden state inference\n",
    "\n"
   ]
  }
 ],
 "metadata": {
  "kernelspec": {
   "display_name": "ds_pydata",
   "language": "python",
   "name": "python3"
  },
  "language_info": {
   "name": "python",
   "version": "3.10.13"
  }
 },
 "nbformat": 4,
 "nbformat_minor": 2
}
