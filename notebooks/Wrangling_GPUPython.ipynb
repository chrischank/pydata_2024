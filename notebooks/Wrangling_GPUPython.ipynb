{
 "cells": [
  {
   "cell_type": "markdown",
   "metadata": {},
   "source": [
    "# The art of wrangling your GPU Python environments\n",
    "\n",
    "## RAPIDS, GPU accelerated Data Science\n",
    "Modern enterprise applicaions need accelerated computing.\\\n",
    "\n",
    "cudf.pandas, accelerated pandas built on cuDF, with zero code change.\\\n",
    "\n",
    "cuML is an accelerated ML with scikit-learn API\\\n",
    "\n",
    "### In many GPU environments, some layers of stack are \n",
    "Where things can go wrong\\\n",
    "- Incompatible NVIDIA Driver\n",
    "- Multiple CUDA Version\n",
    "- Unsupported Hardward\n",
    "\n",
    "### Virtual packages\n",
    "- Represents system-level features like CUDA without explicity installing large systems libraries via conda.\n",
    "- Ensures RPAIDS libraries are compatible with the underlying GPU setup.\n",
    "- When Conda detects a GPU with compatible CUDA, it creates a virtual packages (e.g. cuda)\n",
    "- These virtual packages allow conda to resolve dependencies without actually bundling the entire CUDA toolkit or drivers.\n",
    "\n",
    "## RAPIDS Doctor\n",
    "Meta-diagnostic layer ensure entire stack from hardware to sys config.\\\n"
   ]
  }
 ],
 "metadata": {
  "language_info": {
   "name": "python"
  }
 },
 "nbformat": 4,
 "nbformat_minor": 2
}
