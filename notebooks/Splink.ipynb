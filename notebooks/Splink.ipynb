{
 "cells": [
  {
   "cell_type": "markdown",
   "metadata": {},
   "source": [
    "# Rapid deduplication and fuzzy matching of large dataset using Splink\n",
    "\n",
    "A free and open source python library for prob data linking and deduplication\n",
    "\n",
    "- Capable of linking a million records on laptop\n",
    "- Support for term frequency adjustment and user0defined fuzzy matching logic\n",
    "- Execute linkage in Python (DuckDB) and big-data backends liuke AWS Athena or Spark\n",
    "- No training data is required for model training\n",
    "- A suite of interactive visualisations help users understand their model and diagnose problems.\n",
    "\n",
    "1. Exact match case: What percentage of people are named Smith?\n",
    "2. Fuzzy match case: What percentage of people have a name within one character difference?\n",
    "\n"
   ]
  }
 ],
 "metadata": {
  "kernelspec": {
   "display_name": "ds_pydata",
   "language": "python",
   "name": "python3"
  },
  "language_info": {
   "name": "python",
   "version": "3.10.13"
  }
 },
 "nbformat": 4,
 "nbformat_minor": 2
}
