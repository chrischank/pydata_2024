{
 "cells": [
  {
   "cell_type": "markdown",
   "metadata": {},
   "source": [
    "# Retooling for a small data era\n",
    "Developing Positron IDE for Data Science\\\n",
    "\n",
    "We continue to see core count increase in GPU despite slowdown in CPU\\\n",
    "\n",
    "## Big Data Ergonomics <> Small Data Ergonomics\n",
    "Scalability, then... -> Performance -> Efficiency -> Composability\\\n",
    "\n",
    "## What is a Composable Data System?\n",
    "- Builds with openstandards and protocols\n",
    "- Designed around mdularity, reuse, and interoperability\n",
    "- Greatly reduce overhead in distributed system\n",
    "\n",
    "## The great data tool decoupling\n",
    "- Thesis: overtime, user interfaces, data storage, and execution engines will decouple and specialise\n",
    "- Share systems among languages\n",
    "- Reduce fragmentation and lock-in\n",
    "- Shift developer focus to usability\n",
    "\n",
    "## Modular Open Source Execution ENgine\n",
    "- Apache DataFusion\n",
    "- DuckDB\n",
    "\n",
    "## Modular Acceleration Projects\n",
    "- Prestissimo\n",
    "- Apache DataFusion Comet\n",
    "- Apache Gluten\n",
    "\n",
    "## A multi-engine data stack\n",
    "- WHy be locked into one full stack execution engine?\n",
    "- Cost/performance\n",
    "\n",
    "## Python DataFrame API Sprawl\n",
    "- pandas (+modin)\n",
    "\n",
    "## IBIS project\n",
    "- effort to harmonise\n"
   ]
  }
 ],
 "metadata": {
  "kernelspec": {
   "display_name": "ds_pydata",
   "language": "python",
   "name": "python3"
  },
  "language_info": {
   "name": "python",
   "version": "3.10.13"
  }
 },
 "nbformat": 4,
 "nbformat_minor": 2
}
