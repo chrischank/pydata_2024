{
 "cells": [
  {
   "cell_type": "markdown",
   "metadata": {},
   "source": [
    "# Understanding API Dispatching in NetworkX\n",
    "\n",
    "## Graph analysis include\n",
    "- Centralities, eigen centralities\n",
    "- shortest path, traversals, density, dependency..."
   ]
  },
  {
   "cell_type": "code",
   "execution_count": 3,
   "metadata": {},
   "outputs": [
    {
     "data": {
      "text/plain": [
       "{1: 0.30000000000000004,\n",
       " 2: 0.4,\n",
       " 3: 0.30000000000000004,\n",
       " 4: 0.0,\n",
       " 5: 0.0,\n",
       " 6: 0.0}"
      ]
     },
     "execution_count": 3,
     "metadata": {},
     "output_type": "execute_result"
    }
   ],
   "source": [
    "import networkx as nx\n",
    "G = nx.Graph()\n",
    "G.add_edges_from([(1, 2), (3, 4), (2, 3), (5, 1)])\n",
    "G.add_node(6)\n",
    "\n",
    "nx.betweenness_centrality(G)"
   ]
  },
  {
   "cell_type": "markdown",
   "metadata": {},
   "source": [
    "## Dispatching in API\n"
   ]
  }
 ],
 "metadata": {
  "kernelspec": {
   "display_name": "ds_pydata",
   "language": "python",
   "name": "python3"
  },
  "language_info": {
   "codemirror_mode": {
    "name": "ipython",
    "version": 3
   },
   "file_extension": ".py",
   "mimetype": "text/x-python",
   "name": "python",
   "nbconvert_exporter": "python",
   "pygments_lexer": "ipython3",
   "version": "3.10.13"
  }
 },
 "nbformat": 4,
 "nbformat_minor": 2
}
