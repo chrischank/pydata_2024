{
 "cells": [
  {
   "cell_type": "markdown",
   "metadata": {},
   "source": [
    "# Changing data with confidence using DuckDB\n",
    "\n",
    "DuckDB is a relational system, abstract from tables, focus on analysis\\\n",
    "\n",
    "## Simple\n",
    "0 external dependency, small binary, does not require container\\\n",
    "Can read JSON, parquet, csv\\\n",
    "Can connect to cloud storage\\\n",
    "\n",
    "## Fast\n",
    "Vectorised execution engine\\\n",
    "\n",
    "## Free\n",
    "Not VC funded\\\n",
    "Non-profit and commercial consulting to fund it\\\n",
    "DuckDB comes to c++ first then python\\\n",
    "\n",
    "## Change\n",
    "A dataframe is completely static, no notion of update and transaction\\\n",
    "\n",
    "## Analytics on ACID?\n",
    "Guarantee that traditional RDMS to user.\\\n",
    "- Atomicity - any change to the data happen completely or not at all.\n",
    "- Consistency - SOTA index, optimised for analytical use case.\n",
    "- Isolation - \n",
    "- Durability - People don't think about this all that much because hardware has become so reliable.\n",
    "\n",
    "## Performance"
   ]
  },
  {
   "cell_type": "code",
   "execution_count": 5,
   "metadata": {},
   "outputs": [
    {
     "name": "stdout",
     "output_type": "stream",
     "text": [
      "┌───────┐\n",
      "│  42   │\n",
      "│ int32 │\n",
      "├───────┤\n",
      "│    42 │\n",
      "└───────┘\n",
      "\n",
      "┌───────┐\n",
      "│   k   │\n",
      "│ int32 │\n",
      "├───────┤\n",
      "│    84 │\n",
      "└───────┘\n",
      "\n"
     ]
    }
   ],
   "source": [
    "import duckdb\n",
    "\n",
    "duckdb.sql(\"SELECT 42\").show()\n",
    "\n",
    "r1 = duckdb.sql(\"SELECT 42 AS i\")\n",
    "duckdb.sql(\"SELECT i * 2 AS k FROM r1\").show()"
   ]
  },
  {
   "cell_type": "code",
   "execution_count": null,
   "metadata": {},
   "outputs": [],
   "source": [
    "# Data Input\n"
   ]
  }
 ],
 "metadata": {
  "kernelspec": {
   "display_name": "ds_pydata",
   "language": "python",
   "name": "python3"
  },
  "language_info": {
   "codemirror_mode": {
    "name": "ipython",
    "version": 3
   },
   "file_extension": ".py",
   "mimetype": "text/x-python",
   "name": "python",
   "nbconvert_exporter": "python",
   "pygments_lexer": "ipython3",
   "version": "3.10.13"
  }
 },
 "nbformat": 4,
 "nbformat_minor": 2
}
