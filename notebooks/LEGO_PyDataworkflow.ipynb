{
 "cells": [
  {
   "cell_type": "markdown",
   "metadata": {},
   "source": [
    "# The LEGO Approach to PyData Workflows\n",
    "\n",
    "## LEGO mental Model\n",
    "Goal -> Design -> Toolkit -> Revision -> Feedback\\\n",
    "\n",
    "### Left Shift Thinking\n",
    "Focus on Plan&Design and Develop&Build compared to Traditional Quality Model which focus on Test and Develop&Release\\\n",
    "\n",
    "### Good design feels like?\n",
    "Good design brings about products and services that build long-term relationships (but don't create emotional dependency)\\\n",
    "Good design accelerates new ideas\\\n",
    "\n",
    "- Good tech and design is discreet\n",
    "- Good design is a platform that grows with needs and opportunities\n",
    "- Good design removes complexity from life\n",
    "\n",
    "### Open source the invisible glue\n",
    "- Empowering innovation through collab.\n",
    "- Scalable, actionable solutions\n",
    "- Enable inclusivity, connecting diverse minds and expertise\n",
    "- Drives interoperability, breaking silos across tech\n",
    "- Fosters trust through transparency and shared ownership\n",
    "- Empowers ecosystems for decentralised growth\n",
    "- Reduces barriers, amking tech aaccessible\n",
    "- Unites creativity and practicality as the invisible thread"
   ]
  }
 ],
 "metadata": {
  "kernelspec": {
   "display_name": "ds_pydata",
   "language": "python",
   "name": "python3"
  },
  "language_info": {
   "name": "python",
   "version": "3.10.13"
  }
 },
 "nbformat": 4,
 "nbformat_minor": 2
}
