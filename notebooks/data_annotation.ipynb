{
 "cells": [
  {
   "cell_type": "markdown",
   "metadata": {},
   "source": [
    "# Cost effective data annotation with Bayesian experimental design\n",
    "\n",
    "- We query an oracle for labels\n",
    "- But queries are expensive, in time, money, environment, user experience etc\n",
    "- Idea: target labels that yield the most information\n",
    "\n",
    "## Bayesian experimental design\n",
    "First we will build a predictive model of what we know about the world\\\n",
    "we will then use it to guide what the experiment to perform (which letter to guess next / which questions to include)\\\n",
    "Then we will yield some data, and add the data back to the model.\\\n",
    "\n",
    "## Maximising information\n",
    "- to know as much as possible about Theta\n",
    "- to decrease the uncertainty in our belief about theta\n",
    "- Use Shannon entropy\n",
    "- We want the find the minimum Expected value of the Shannon Entropy given new data\n",
    "- The data point that on average decrease the Shannon Entropy maximally\n"
   ]
  }
 ],
 "metadata": {
  "language_info": {
   "name": "python"
  }
 },
 "nbformat": 4,
 "nbformat_minor": 2
}
