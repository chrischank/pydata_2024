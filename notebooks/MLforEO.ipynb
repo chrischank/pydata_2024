{
 "cells": [
  {
   "cell_type": "markdown",
   "metadata": {},
   "source": [
    "# Harnessing ML to improve agricultural resilience in Africa\n",
    "\n",
    "## Kisilu\n",
    "Agriculture account for 15-20% of Africa's GDP and employs over 60% of the population\n",
    "- Kenya: 34%\n",
    "- Ghana: 19.7%\n",
    "- Ethiopia: 38%\n",
    "- Niger: 42%\n",
    "- Madagascar: 24%\n",
    "\n",
    "- Agriculture sustains families and fund education and healthcare\n",
    "- Drives transportation, logistics, and industries like food processing and exports\n",
    "\n",
    "## Climate Challenges\n",
    "1. Rainfall variability\n",
    "Erratic rainfall leads to floods in West Africa and droughts in Southern Africa\n",
    "2. Soil degradation\n",
    "Over-cultivation depletes nutrients; extreme weather acceleratios erosion and salisation\n",
    "3. Pests and Diseases\n",
    "Warming climates allow pests like Fall Armyworm to spread\n",
    "4. Economic impact\n",
    "A 1C rise in temperature could lower GDP by 1.2% in low-income nations.\n",
    "\n",
    "## Application of ML\n",
    "### Crop Yield Prediction\n",
    "- NN and RF models forecast yields by analysing weather, soil, and historical data\n",
    "- West Africa has improved planning for maize and cassava\n",
    "### Pest and Disease Management\n",
    "- Tools like Nuru and Farmers Companion App detect cassava diseases and Fall Armyworm infestations.\n",
    "\n",
    "## Livestock management\n",
    "### Jaguza Tech\n",
    "Tracks animal health, predicts diseases etc."
   ]
  }
 ],
 "metadata": {
  "language_info": {
   "name": "python"
  }
 },
 "nbformat": 4,
 "nbformat_minor": 2
}
