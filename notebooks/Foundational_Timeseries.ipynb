{
 "cells": [
  {
   "cell_type": "markdown",
   "metadata": {},
   "source": [
    "# Foundational Time Series Models: the future of forecasting or just hype\n",
    "How did we move from ARIMA to foundational\n",
    "\n",
    "## Problem: Estimating future values using observation\n",
    "generally follow standard ML life cycle:\\\n",
    "data -> fit -> predict -> evaluate -> interpret\\\n",
    "\n",
    "## Challenges: lots of different shapes, sizes, granularity\n",
    "The solution of the forecasting community is a bit divided\\\n",
    "\n",
    "## A journey from ARIMA\n",
    "ARIMA uses exponential smoothing\n",
    "- Simple to build & interpret\n",
    "- East to tweak individually with prior knowledge\n",
    "- But not always accurate at scale\n",
    "\n",
    "Light GBM, Deep AR\n",
    "- More expressive\n",
    "- Accurate at Scale\n",
    "- But require feature engineering + some ML infrastructure\n",
    "\n",
    "## 2023 PatchTST released\n",
    "## 2024 Transformer-Based Foundational Models (ex. Moirai)\n",
    "- Learning from NLP, longer context window\n",
    "\n",
    "## There are also LLMs based model\n",
    "So how should you use foundational models?\\\n",
    "Its still a ML model, but without training - data in, forecast out!\\\n",
    "Higher accuracy out of the box, less training/tuning effort, better \"cold start\"\\\n",
    "\n",
    "## Model stability: critical for automated forecasting\n",
    "- Training instability observed in large global models - critical for automated re-training\n",
    "- Generally not as important for \"pre-trained\" model, but...\n",
    "- Inference stability\n",
    "- Anomaly Detection as preprocessing -> great improved uncertainty intervals\n",
    "- n of samples generated in Forecasting == Temperature in LLM\n",
    "\n",
    "## Whats next\n",
    "- MoE-based\n",
    "- mamba based\n",
    "- vision based\n",
    "\n",
    "## Multimodal Explainability: Time Series + Language\n",
    "### Time Series Understanding\n",
    "- Applications: hierarchical time series correlations, root cause analysis (changepoints)\n",
    "- LLMs + New Data\n",
    "- General Reasoning"
   ]
  }
 ],
 "metadata": {
  "language_info": {
   "name": "python"
  }
 },
 "nbformat": 4,
 "nbformat_minor": 2
}
