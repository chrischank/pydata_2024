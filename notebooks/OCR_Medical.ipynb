{
 "cells": [
  {
   "cell_type": "markdown",
   "metadata": {},
   "source": [
    "# An evaluation of open-source OCR models for Japanese medical documents\n",
    "OCR = Optical Character Recognition\\\n",
    "Converting image data to text\n",
    "\n",
    "## Issues\n",
    "- Data framentation\n",
    "- Stringent data privacy regulations\n",
    "\n",
    "Is there a production-ready open-source COR model for efficient batch document processing?\\\n",
    "\n",
    "## 3 players\n",
    "1. Tesseract\n",
    "- developed by HP in 1980, with 100+ language support\n",
    "2. PaddleOCR3\n",
    "- developed by Baidu, with 80+ language support\n",
    "3. EasyOCR 1.7\n",
    "- developed by JaidedAi, with 80+ language support\n",
    "\n",
    "Medical OCR require very high accuracy rate.\\\n",
    "\n",
    "## How does OCR work\n",
    "Pre-processing -> Text detection -> Character recognition -> Post-processing\\\n",
    "\n",
    "## Common architecture uses Convolutional Recurrent Neural Network\n",
    "- CNN designed to recognise patterns in data\n",
    "- RNN designed to process sequential data that captures information\n",
    "\n",
    "## Tesserach\n",
    "LSTM + CNN\n",
    "\n",
    "## EasyOCR\n",
    "CRNN\n",
    "\n",
    "## Paddle\n",
    "CRNN => SVTR (Scene Text Recognition with a Single Visual Model)\\\n",
    "\n",
    "SVTR directly processes entire images of text using a visual-only model, without requiring sequential modelling like RNNs, to recognise text in natural scenes.\\\n",
    "\n",
    "## Documents for accuracy analysis\n",
    "Calculate letters + numbers + characters + kana + kanji\\\n",
    "Calculated accuracy rate for each\\\n",
    "\n",
    "Separated out header and main text for inference, images omitted.\\\n",
    "\n",
    "- Given overall performance, Tesseract leades the OCR game in the space\n",
    "- For industries that require high accuracies\n",
    "\n",
    "The accuracy rate of consistent big chunk of text body on images with good resolution has reached 96+% accuracy rate across models."
   ]
  }
 ],
 "metadata": {
  "language_info": {
   "name": "python"
  }
 },
 "nbformat": 4,
 "nbformat_minor": 2
}
